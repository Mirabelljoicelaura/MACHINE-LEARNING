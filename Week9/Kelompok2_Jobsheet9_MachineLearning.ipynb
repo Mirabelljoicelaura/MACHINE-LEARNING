{
  "nbformat": 4,
  "nbformat_minor": 0,
  "metadata": {
    "colab": {
      "provenance": [],
      "include_colab_link": true
    },
    "kernelspec": {
      "name": "python3",
      "display_name": "Python 3"
    },
    "language_info": {
      "name": "python"
    }
  },
  "cells": [
    {
      "cell_type": "markdown",
      "metadata": {
        "id": "view-in-github",
        "colab_type": "text"
      },
      "source": [
        "<a href=\"https://colab.research.google.com/github/Mirabelljoicelaura/MACHINE-LEARNING/blob/main/Week9/Kelompok2_Jobsheet9_MachineLearning.ipynb\" target=\"_parent\"><img src=\"https://colab.research.google.com/assets/colab-badge.svg\" alt=\"Open In Colab\"/></a>"
      ]
    },
    {
      "cell_type": "markdown",
      "source": [
        "# **Jobsheet 9: Perceptron dan Artificial Neural Network (ANN)**"
      ],
      "metadata": {
        "id": "fhScayqHMl7j"
      }
    },
    {
      "cell_type": "markdown",
      "source": [
        "UJIAN TENGAH SEMESTER MACHINE LEARNING\n",
        "\n",
        "KELOMPOK 2\n",
        "\n",
        "Kelas : D4 Teknik Informatika / 3D\n",
        "\n",
        "Anggota :\n",
        "\n",
        "1. Alfi Surya / 2141720075\n",
        "2. Mirabell Joice Laura / 2141720174\n",
        "3. Muhamad Rafi Prabowo / 2141720239"
      ],
      "metadata": {
        "id": "daVBGPIfMoF2"
      }
    },
    {
      "cell_type": "markdown",
      "source": [
        "## **Praktikum 1: Klasifikasi Iris dengan Perceptron**"
      ],
      "metadata": {
        "id": "DAVdLKHcMtae"
      }
    },
    {
      "cell_type": "markdown",
      "source": [
        "Pada pratikum ini, Anda diminta untuk melakukan klasifikasi bunga iris dengan menggunakan model Perceptron. Anda dapat menggunakan dataset iris pada praktikum sebelumnya.\n",
        "\n",
        "Untuk nembah pemahaman Anda terkait dengan model Perceptron, pada pratkikum ini Anda akan membuat model Perceptron tanpa menggunakan library."
      ],
      "metadata": {
        "id": "AmPF2zkBNOUu"
      }
    },
    {
      "cell_type": "code",
      "source": [
        "from google.colab import drive\n",
        "\n",
        "drive.mount('/content/drive')"
      ],
      "metadata": {
        "colab": {
          "base_uri": "https://localhost:8080/"
        },
        "id": "pG4lCaAjNPfr",
        "outputId": "f6c96c08-4191-4d75-d5e4-d497e1bfd4a8"
      },
      "execution_count": null,
      "outputs": [
        {
          "output_type": "stream",
          "name": "stdout",
          "text": [
            "Drive already mounted at /content/drive; to attempt to forcibly remount, call drive.mount(\"/content/drive\", force_remount=True).\n"
          ]
        }
      ]
    },
    {
      "cell_type": "markdown",
      "source": [
        "### **Langkah 1 - Import Library**"
      ],
      "metadata": {
        "id": "OvRqkMpfNScl"
      }
    },
    {
      "cell_type": "code",
      "source": [
        "import numpy as np\n",
        "import matplotlib.pyplot as plt\n",
        "import pandas as pd\n",
        "import seaborn as sns"
      ],
      "metadata": {
        "id": "_KOtWBHfNYwv"
      },
      "execution_count": null,
      "outputs": []
    },
    {
      "cell_type": "markdown",
      "source": [
        "### **Langkah 2 - Load Data dan Visualisasi**"
      ],
      "metadata": {
        "id": "gj0frCpCNam-"
      }
    },
    {
      "cell_type": "code",
      "source": [
        "df = pd.read_csv('https://archive.ics.uci.edu/ml/machine-learning-databases/iris/iris.data', header=None)\n",
        "setosa = df[df[4] == 'Iris-setosa']\n",
        "versicolor = df[df[4] == 'Iris-versicolor']\n",
        "virginica = df[df[4] == 'Iris-virginica']\n",
        "\n",
        "a, b = 0, 3\n",
        "plt.scatter(setosa[a], setosa[b], color='red', marker='o', label='setosa')\n",
        "plt.scatter(versicolor[a], versicolor[b], color='blue', marker='x', label='versicolor')\n",
        "\n",
        "plt.xlabel('Petal Length')\n",
        "plt.ylabel('Sepal Length')\n",
        "plt.legend(loc='upper left')\n",
        "plt.grid()\n",
        "plt.show()"
      ],
      "metadata": {
        "colab": {
          "base_uri": "https://localhost:8080/",
          "height": 449
        },
        "id": "UV7tikYvNaTM",
        "outputId": "96c68b09-2037-49f7-d3f3-b752e5fd6a0a"
      },
      "execution_count": null,
      "outputs": [
        {
          "output_type": "display_data",
          "data": {
            "text/plain": [
              "<Figure size 640x480 with 1 Axes>"
            ],
            "image/png": "[encoded data removed]"
          },
          "metadata": {}
        }
      ]
    },
    {
      "cell_type": "markdown",
      "source": [
        "### **Langkah 3 - Membuat Kelas Perceptron**"
      ],
      "metadata": {
        "id": "oO-Pfq2COUKs"
      }
    },
    {
      "cell_type": "code",
      "source": [
        "class Perceptron(object):\n",
        "    def __init__(self, eta=0.01, n_iter=10):\n",
        "        self.eta = eta\n",
        "        self.n_iter = n_iter\n",
        "\n",
        "    def fit(self, X, y):\n",
        "\n",
        "        self.w_ = np.zeros(1 + X.shape[1])\n",
        "        self.errors_ = []\n",
        "\n",
        "        for _ in range(self.n_iter):\n",
        "            errors = 0\n",
        "            for xi, target in zip(X, y):\n",
        "                update = self.eta * (target - self.predict(xi))\n",
        "                self.w_[0] += update\n",
        "                self.w_[1:] += update * xi\n",
        "                errors += int(update != 0.0)\n",
        "            self.errors_.append(errors)\n",
        "        return self\n",
        "\n",
        "    def net_input(self, X):\n",
        "        return np.dot(X, self.w_[1:]) + self.w_[0]\n",
        "\n",
        "    def predict(self, X):\n",
        "        return np.where(self.net_input(X) >= 0.0, 1, -1)"
      ],
      "metadata": {
        "id": "Iw9wED6-N8tp"
      },
      "execution_count": null,
      "outputs": []
    },
    {
      "cell_type": "markdown",
      "source": [
        "### **Langkah 4 - Pilih Data dan Encoding Label**"
      ],
      "metadata": {
        "id": "2BVb0XevOYlh"
      }
    },
    {
      "cell_type": "code",
      "source": [
        "y = df.iloc[0:100, 4].values # pilih 100 data awal\n",
        "y = np.where(y == 'Iris-setosa', -1, 1) # ganti coding label\n",
        "X = df.iloc[0:100, [0, 3]].values # slice data latih"
      ],
      "metadata": {
        "id": "sFSzgKD_N9-D"
      },
      "execution_count": null,
      "outputs": []
    },
    {
      "cell_type": "markdown",
      "source": [
        "### **Langkah 5 - Fitting Model**"
      ],
      "metadata": {
        "id": "T-3Qo-_VOafI"
      }
    },
    {
      "cell_type": "code",
      "source": [
        "ppn = Perceptron(eta=0.1, n_iter=10)\n",
        "ppn.fit(X, y)"
      ],
      "metadata": {
        "colab": {
          "base_uri": "https://localhost:8080/"
        },
        "id": "2G4c1vfwN_Jn",
        "outputId": "d9a32586-578c-4070-afcd-95b2af8cab15"
      },
      "execution_count": null,
      "outputs": [
        {
          "output_type": "execute_result",
          "data": {
            "text/plain": [
              "<__main__.Perceptron at 0x79ca604e3fa0>"
            ]
          },
          "metadata": {},
          "execution_count": 9
        }
      ]
    },
    {
      "cell_type": "markdown",
      "source": [
        "### **Langkah 6 - Visualisasi Nilai Error Per Epoch**"
      ],
      "metadata": {
        "id": "6UMy9KuFOcTf"
      }
    },
    {
      "cell_type": "code",
      "source": [
        "plt.plot(range(1, len(ppn.errors_)+1), ppn.errors_)\n",
        "plt.xlabel('Epochs')\n",
        "plt.ylabel('Number of updates')\n",
        "plt.show()"
      ],
      "metadata": {
        "id": "jFUHxhGsOeSV",
        "outputId": "581217b7-be91-4209-fe42-35761554e15c",
        "colab": {
          "base_uri": "https://localhost:8080/",
          "height": 449
        }
      },
      "execution_count": null,
      "outputs": [
        {
          "output_type": "display_data",
          "data": {
            "text/plain": [
              "<Figure size 640x480 with 1 Axes>"
            ],
            "image/png": "[encoded data removed]"
          },
          "metadata": {}
        }
      ]
    },
    {
      "cell_type": "markdown",
      "source": [
        "### **Langkah 7 - Visualiasasi Decision Boundary**"
      ],
      "metadata": {
        "id": "Jc-XJ10bOg0k"
      }
    },
    {
      "cell_type": "code",
      "source": [
        "# buat fungsi untuk plot decision region\n",
        "\n",
        "from matplotlib.colors import ListedColormap\n",
        "\n",
        "def plot_decision_regions(X, y, classifier, resolution=0.02):\n",
        "    # setup marker generator and color map\n",
        "    markers = ('s', 'x', 'o', '^', 'v')\n",
        "    colors = ('r', 'b', 'g', 'k', 'grey')\n",
        "    cmap = ListedColormap(colors[:len(np.unique(y))])\n",
        "\n",
        "    # plot the decision regions by creating a pair of grid arrays xx1 and xx2 via meshgrid function in Numpy\n",
        "    x1_min, x1_max = X[:, 0].min() - 1, X[:, 0].max() + 1\n",
        "    x2_min, x2_max = X[:, 1].min() - 1, X[:, 1].max() + 1\n",
        "    xx1, xx2 = np.meshgrid(np.arange(x1_min, x1_max, resolution), np.arange(x2_min, x2_max, resolution))\n",
        "\n",
        "    # use predict method to predict the class labels z of the grid points\n",
        "    Z = classifier.predict(np.array([xx1.ravel(),xx2.ravel()]).T)\n",
        "    Z = Z.reshape(xx1.shape)\n",
        "\n",
        "    # draw the contour using matplotlib\n",
        "    plt.contourf(xx1, xx2, Z, alpha=0.4, cmap=cmap)\n",
        "    plt.xlim(xx1.min(), xx1.max())\n",
        "    plt.ylim(xx2.min(), xx2.max())\n",
        "\n",
        "    # plot class samples\n",
        "    for i, cl in enumerate(np.unique(y)):\n",
        "        plt.scatter(x=X[y==cl, 0], y=X[y==cl, 1], alpha=0.8, c=cmap(i), marker=markers[i], label=cl)\n",
        "plot_decision_regions(X, y, ppn)\n",
        "plt.xlabel('sepal length [cm]')\n",
        "plt.ylabel('petal length [cm]')\n",
        "plt.legend(loc='upper left')\n",
        "plt.show()"
      ],
      "metadata": {
        "id": "xNslKJGZOiRC",
        "outputId": "03508599-28c6-42a6-a733-8c438c91cf47",
        "colab": {
          "base_uri": "https://localhost:8080/",
          "height": 504
        }
      },
      "execution_count": null,
      "outputs": [
        {
          "output_type": "stream",
          "name": "stderr",
          "text": [
            "<ipython-input-11-d7f314ba4772>:27: UserWarning: *c* argument looks like a single numeric RGB or RGBA sequence, which should be avoided as value-mapping will have precedence in case its length matches with *x* & *y*.  Please use the *color* keyword-argument or provide a 2D array with a single row if you intend to specify the same RGB or RGBA value for all points.\n",
            "  plt.scatter(x=X[y==cl, 0], y=X[y==cl, 1], alpha=0.8, c=cmap(i), marker=markers[i], label=cl)\n"
          ]
        },
        {
          "output_type": "display_data",
          "data": {
            "text/plain": [
              "<Figure size 640x480 with 1 Axes>"
            ],
            "image/png": "[encoded data removed]"
          },
          "metadata": {}
        }
      ]
    },
    {
      "cell_type": "markdown",
      "source": [
        "## **Praktikum 2**"
      ],
      "metadata": {
        "id": "JqMFPN4QMwha"
      }
    },
    {
      "cell_type": "markdown",
      "source": [
        "Dalam kasus ini, Anda akan melakukan klasifiaksi berita berdasarkan 3 kategori, yaitu **Sport Hockey**, **Sport Baseball**, dan **Otomotif**. Proses klasifikasi akan menggunakan model Perceptron."
      ],
      "metadata": {
        "id": "uApj-tS1Ol9g"
      }
    },
    {
      "cell_type": "markdown",
      "source": [
        "### **Langkah 1 - Import Library**"
      ],
      "metadata": {
        "id": "aJl4y562OroR"
      }
    },
    {
      "cell_type": "code",
      "source": [
        "from sklearn.datasets import fetch_20newsgroups # download dataset\n",
        "from sklearn.feature_extraction.text import TfidfVectorizer\n",
        "from sklearn.linear_model import Perceptron\n",
        "from sklearn.metrics import f1_score, classification_report"
      ],
      "metadata": {
        "id": "MogZeYz1OuY2"
      },
      "execution_count": null,
      "outputs": []
    },
    {
      "cell_type": "markdown",
      "source": [
        "### **Langkah 2 - Pilih Label dan Split Data**"
      ],
      "metadata": {
        "id": "xeJnEvZ1OzRG"
      }
    },
    {
      "cell_type": "code",
      "source": [
        "categories = ['rec.sport.hockey', 'rec.sport.baseball', 'rec.autos']\n",
        "newsgroups_train = fetch_20newsgroups(subset='train', categories=categories, remove=('headers', 'footers', 'quotes'))\n",
        "newsgroups_test = fetch_20newsgroups(subset='test', categories=categories, remove=('headers', 'footers', 'quotes'))"
      ],
      "metadata": {
        "id": "Jz_LL9o0Ovzt"
      },
      "execution_count": null,
      "outputs": []
    },
    {
      "cell_type": "markdown",
      "source": [
        "### **Langkah 3 - Ekstrak Fitur dan Buat Model Perceptron**"
      ],
      "metadata": {
        "id": "t1I1l0nnO1gV"
      }
    },
    {
      "cell_type": "code",
      "source": [
        "# Ekstrak Fitur\n",
        "vectorizer = TfidfVectorizer()\n",
        "\n",
        "# Fit fitur\n",
        "X_train = vectorizer.fit_transform(newsgroups_train.data)\n",
        "X_test = vectorizer.transform(newsgroups_test.data)\n",
        "\n",
        "# Fit Model\n",
        "clf = Perceptron(random_state=11)\n",
        "clf.fit(X_train, newsgroups_train.target)\n",
        "\n",
        "# Prediksi\n",
        "predictions = clf.predict(X_test)\n",
        "print(classification_report(newsgroups_test.target, predictions))"
      ],
      "metadata": {
        "colab": {
          "base_uri": "https://localhost:8080/"
        },
        "id": "Na3IhX7aOxZB",
        "outputId": "411b8d20-c199-41cd-f61b-826709c4fb01"
      },
      "execution_count": null,
      "outputs": [
        {
          "output_type": "stream",
          "name": "stdout",
          "text": [
            "              precision    recall  f1-score   support\n",
            "\n",
            "           0       0.88      0.88      0.88       396\n",
            "           1       0.82      0.83      0.83       397\n",
            "           2       0.88      0.87      0.87       399\n",
            "\n",
            "    accuracy                           0.86      1192\n",
            "   macro avg       0.86      0.86      0.86      1192\n",
            "weighted avg       0.86      0.86      0.86      1192\n",
            "\n"
          ]
        }
      ]
    },
    {
      "cell_type": "markdown",
      "source": [
        "### **Penjelasan**"
      ],
      "metadata": {
        "id": "c8UHLOVGO5B2"
      }
    },
    {
      "cell_type": "markdown",
      "source": [
        "Dataset yang digunakan pada kode program diatas adalah 20newsgroup yang terdiri dari sekitar 20.000 dokumen. Scikit-learn bahkan menyediakan fungsi yang memberikan kemudahan untuk mengunduh dan membaca kumpulan dataset dengan menggunakan sklearn.datasets. pada kode program diatas Perceptron mampu melakukan klasifikasi multikelas; strategi yang digunakan adalah one-versus-all untuk melakukan pelatihan untuk setiap kelas dalam data training. Dokumen teks memerlukan ekstraksi fitur salah satunya adalah bobot tf-idf pada kodeprogram diatas digunakan `tfidf-vectorizer`."
      ],
      "metadata": {
        "id": "2pzuTvCMO6EO"
      }
    },
    {
      "cell_type": "markdown",
      "source": [
        "## **Praktikum 3**"
      ],
      "metadata": {
        "id": "EJK3j-_TMw1-"
      }
    },
    {
      "cell_type": "markdown",
      "source": [
        "Pada kasus sederhana ini, Anda akan menggunakan MLP untuk mendapatkan nilai biner yang dioperasikan dengan logika XOR. Perlu diingat bahwa nilai XOR berbeda dengan OR, XOR hanya akan bernilai benar jika salah satu nilai yang benar, bukan keduanya atau tidak sama sekali."
      ],
      "metadata": {
        "id": "JiNy2bccO-SF"
      }
    },
    {
      "cell_type": "markdown",
      "source": [
        "### **Langkah 1 - Import Library**"
      ],
      "metadata": {
        "id": "YUuvW2mQPCLA"
      }
    },
    {
      "cell_type": "code",
      "source": [
        "from sklearn.neural_network import MLPClassifier"
      ],
      "metadata": {
        "id": "D2GNgO07O_58"
      },
      "execution_count": null,
      "outputs": []
    },
    {
      "cell_type": "markdown",
      "source": [
        "### **Langkah 2 - Buat Data**"
      ],
      "metadata": {
        "id": "z0LRQayWPD_J"
      }
    },
    {
      "cell_type": "code",
      "source": [
        "y = [0, 1, 1, 0] # label\n",
        "X = [[0, 0], [0, 1], [1, 0], [1, 1]] # data"
      ],
      "metadata": {
        "id": "jjhwjBkiPA8W"
      },
      "execution_count": null,
      "outputs": []
    },
    {
      "cell_type": "markdown",
      "source": [
        "### **Langkah 3 - Fit Model**"
      ],
      "metadata": {
        "id": "RKXiwtcGPIcU"
      }
    },
    {
      "cell_type": "code",
      "source": [
        "# Fit model\n",
        "clf = MLPClassifier(solver='lbfgs', activation='logistic', hidden_layer_sizes=(2,), max_iter=100, random_state=20)\n",
        "clf.fit(X, y)"
      ],
      "metadata": {
        "colab": {
          "base_uri": "https://localhost:8080/",
          "height": 92
        },
        "id": "YM1ADYyEPFds",
        "outputId": "ccde718f-5a3b-4c5e-b100-a799ea4d7a6c"
      },
      "execution_count": null,
      "outputs": [
        {
          "output_type": "execute_result",
          "data": {
            "text/plain": [
              "MLPClassifier(activation='logistic', hidden_layer_sizes=(2,), max_iter=100,\n",
              "              random_state=20, solver='lbfgs')"
            ],
            "text/html": [
              "<style>#sk-container-id-1 {color: black;background-color: white;}#sk-container-id-1 pre{padding: 0;}#sk-container-id-1 div.sk-toggleable {background-color: white;}#sk-container-id-1 label.sk-toggleable__label {cursor: pointer;display: block;width: 100%;margin-bottom: 0;padding: 0.3em;box-sizing: border-box;text-align: center;}#sk-container-id-1 label.sk-toggleable__label-arrow:before {content: \"▸\";float: left;margin-right: 0.25em;color: #696969;}#sk-container-id-1 label.sk-toggleable__label-arrow:hover:before {color: black;}#sk-container-id-1 div.sk-estimator:hover label.sk-toggleable__label-arrow:before {color: black;}#sk-container-id-1 div.sk-toggleable__content {max-height: 0;max-width: 0;overflow: hidden;text-align: left;background-color: #f0f8ff;}#sk-container-id-1 div.sk-toggleable__content pre {margin: 0.2em;color: black;border-radius: 0.25em;background-color: #f0f8ff;}#sk-container-id-1 input.sk-toggleable__control:checked~div.sk-toggleable__content {max-height: 200px;max-width: 100%;overflow: auto;}#sk-container-id-1 input.sk-toggleable__control:checked~label.sk-toggleable__label-arrow:before {content: \"▾\";}#sk-container-id-1 div.sk-estimator input.sk-toggleable__control:checked~label.sk-toggleable__label {background-color: #d4ebff;}#sk-container-id-1 div.sk-label input.sk-toggleable__control:checked~label.sk-toggleable__label {background-color: #d4ebff;}#sk-container-id-1 input.sk-hidden--visually {border: 0;clip: rect(1px 1px 1px 1px);clip: rect(1px, 1px, 1px, 1px);height: 1px;margin: -1px;overflow: hidden;padding: 0;position: absolute;width: 1px;}#sk-container-id-1 div.sk-estimator {font-family: monospace;background-color: #f0f8ff;border: 1px dotted black;border-radius: 0.25em;box-sizing: border-box;margin-bottom: 0.5em;}#sk-container-id-1 div.sk-estimator:hover {background-color: #d4ebff;}#sk-container-id-1 div.sk-parallel-item::after {content: \"\";width: 100%;border-bottom: 1px solid gray;flex-grow: 1;}#sk-container-id-1 div.sk-label:hover label.sk-toggleable__label {background-color: #d4ebff;}#sk-container-id-1 div.sk-serial::before {content: \"\";position: absolute;border-left: 1px solid gray;box-sizing: border-box;top: 0;bottom: 0;left: 50%;z-index: 0;}#sk-container-id-1 div.sk-serial {display: flex;flex-direction: column;align-items: center;background-color: white;padding-right: 0.2em;padding-left: 0.2em;position: relative;}#sk-container-id-1 div.sk-item {position: relative;z-index: 1;}#sk-container-id-1 div.sk-parallel {display: flex;align-items: stretch;justify-content: center;background-color: white;position: relative;}#sk-container-id-1 div.sk-item::before, #sk-container-id-1 div.sk-parallel-item::before {content: \"\";position: absolute;border-left: 1px solid gray;box-sizing: border-box;top: 0;bottom: 0;left: 50%;z-index: -1;}#sk-container-id-1 div.sk-parallel-item {display: flex;flex-direction: column;z-index: 1;position: relative;background-color: white;}#sk-container-id-1 div.sk-parallel-item:first-child::after {align-self: flex-end;width: 50%;}#sk-container-id-1 div.sk-parallel-item:last-child::after {align-self: flex-start;width: 50%;}#sk-container-id-1 div.sk-parallel-item:only-child::after {width: 0;}#sk-container-id-1 div.sk-dashed-wrapped {border: 1px dashed gray;margin: 0 0.4em 0.5em 0.4em;box-sizing: border-box;padding-bottom: 0.4em;background-color: white;}#sk-container-id-1 div.sk-label label {font-family: monospace;font-weight: bold;display: inline-block;line-height: 1.2em;}#sk-container-id-1 div.sk-label-container {text-align: center;}#sk-container-id-1 div.sk-container {/* jupyter's `normalize.less` sets `[hidden] { display: none; }` but bootstrap.min.css set `[hidden] { display: none !important; }` so we also need the `!important` here to be able to override the default hidden behavior on the sphinx rendered scikit-learn.org. See: https://github.com/scikit-learn/scikit-learn/issues/21755 */display: inline-block !important;position: relative;}#sk-container-id-1 div.sk-text-repr-fallback {display: none;}</style><div id=\"sk-container-id-1\" class=\"sk-top-container\"><div class=\"sk-text-repr-fallback\"><pre>MLPClassifier(activation=&#x27;logistic&#x27;, hidden_layer_sizes=(2,), max_iter=100,\n",
              "              random_state=20, solver=&#x27;lbfgs&#x27;)</pre><b>In a Jupyter environment, please rerun this cell to show the HTML representation or trust the notebook. <br />On GitHub, the HTML representation is unable to render, please try loading this page with nbviewer.org.</b></div><div class=\"sk-container\" hidden><div class=\"sk-item\"><div class=\"sk-estimator sk-toggleable\"><input class=\"sk-toggleable__control sk-hidden--visually\" id=\"sk-estimator-id-1\" type=\"checkbox\" checked><label for=\"sk-estimator-id-1\" class=\"sk-toggleable__label sk-toggleable__label-arrow\">MLPClassifier</label><div class=\"sk-toggleable__content\"><pre>MLPClassifier(activation=&#x27;logistic&#x27;, hidden_layer_sizes=(2,), max_iter=100,\n",
              "              random_state=20, solver=&#x27;lbfgs&#x27;)</pre></div></div></div></div></div>"
            ]
          },
          "metadata": {},
          "execution_count": 17
        }
      ]
    },
    {
      "cell_type": "markdown",
      "source": [
        "### **Langkah 4 - Prediksi**"
      ],
      "metadata": {
        "id": "XC0d4IK9PM8W"
      }
    },
    {
      "cell_type": "code",
      "source": [
        "pred = clf.predict(X)\n",
        "print('Accuracy: %s' % clf.score(X, y))\n",
        "for i,p in enumerate(pred[:10]):\n",
        "    print('True: %s, Predicted: %s' % (y[i], p))"
      ],
      "metadata": {
        "colab": {
          "base_uri": "https://localhost:8080/"
        },
        "id": "itVvE3vYPLtK",
        "outputId": "d60e09ac-e06d-4f99-9825-005c4371b80f"
      },
      "execution_count": null,
      "outputs": [
        {
          "output_type": "stream",
          "name": "stdout",
          "text": [
            "Accuracy: 1.0\n",
            "True: 0, Predicted: 0\n",
            "True: 1, Predicted: 1\n",
            "True: 1, Predicted: 1\n",
            "True: 0, Predicted: 0\n"
          ]
        }
      ]
    },
    {
      "cell_type": "markdown",
      "source": [
        "## **Praktikum 4**"
      ],
      "metadata": {
        "id": "L5Un4G80MxZM"
      }
    },
    {
      "cell_type": "markdown",
      "source": [
        "Pada praktikum kali ini, Anda diminta untuk membuat model ANN untuk mengklasifikasi potensi seorang customer akan meninggalkan perusahaan Anda atau tidak. Istirlah populer dari fenomena ini disebut sebagai '*churn*'. Tingkat churn yang tinggi (*chrun rate*) akan berdampak tidak baik bagi perusahaan."
      ],
      "metadata": {
        "id": "3Ta4SDaZPQON"
      }
    },
    {
      "cell_type": "code",
      "source": [
        "from google.colab import drive\n",
        "\n",
        "drive.mount('/content/drive')"
      ],
      "metadata": {
        "colab": {
          "base_uri": "https://localhost:8080/"
        },
        "id": "5xLlXMSiPhTI",
        "outputId": "7d5e79aa-ce14-48ae-a0af-e5d806dc2c3a"
      },
      "execution_count": null,
      "outputs": [
        {
          "output_type": "stream",
          "name": "stdout",
          "text": [
            "Drive already mounted at /content/drive; to attempt to forcibly remount, call drive.mount(\"/content/drive\", force_remount=True).\n"
          ]
        }
      ]
    },
    {
      "cell_type": "markdown",
      "source": [
        "### **Pra Pengolahan Data**"
      ],
      "metadata": {
        "id": "xF8U_kJ6PngR"
      }
    },
    {
      "cell_type": "markdown",
      "source": [
        "#### **Langkah 1 - Import Library**"
      ],
      "metadata": {
        "id": "Q3OOllsWPp58"
      }
    },
    {
      "cell_type": "code",
      "source": [
        "import numpy as np\n",
        "import pandas as pd\n",
        "import tensorflow as tf"
      ],
      "metadata": {
        "id": "GYiVGNx_PmLJ"
      },
      "execution_count": null,
      "outputs": []
    },
    {
      "cell_type": "markdown",
      "source": [
        "#### **Langkah 2 - Load Data**"
      ],
      "metadata": {
        "id": "aigALAyJP1rG"
      }
    },
    {
      "cell_type": "code",
      "source": [
        "dataset = pd.read_csv('/content/drive/MyDrive/machinelearn/Churn_Modelling.csv')\n",
        "X = dataset.iloc[:, 3:-1].values\n",
        "y = dataset.iloc[:, -1].values"
      ],
      "metadata": {
        "id": "fL9ektfaPlkm"
      },
      "execution_count": null,
      "outputs": []
    },
    {
      "cell_type": "markdown",
      "source": [
        "Cek data (X)"
      ],
      "metadata": {
        "id": "qCBLRs-iP42e"
      }
    },
    {
      "cell_type": "code",
      "source": [
        "print(X)"
      ],
      "metadata": {
        "colab": {
          "base_uri": "https://localhost:8080/"
        },
        "id": "ePsbjf7SP3wK",
        "outputId": "75d355b0-16cd-44d4-83d2-12da19a50d08"
      },
      "execution_count": null,
      "outputs": [
        {
          "output_type": "stream",
          "name": "stdout",
          "text": [
            "[[619 'France' 'Female' ... 1 1 101348.88]\n",
            " [608 'Spain' 'Female' ... 0 1 112542.58]\n",
            " [502 'France' 'Female' ... 1 0 113931.57]\n",
            " ...\n",
            " [709 'France' 'Female' ... 0 1 42085.58]\n",
            " [772 'Germany' 'Male' ... 1 0 92888.52]\n",
            " [792 'France' 'Female' ... 1 0 38190.78]]\n"
          ]
        }
      ]
    },
    {
      "cell_type": "markdown",
      "source": [
        "#### **Langkah 3 - Encoding Data Kategorikal**"
      ],
      "metadata": {
        "id": "lY3I6HgDP_t3"
      }
    },
    {
      "cell_type": "code",
      "source": [
        "from sklearn.preprocessing import LabelEncoder\n",
        "le = LabelEncoder()\n",
        "X[:, 2] = le.fit_transform(X[:, 2])"
      ],
      "metadata": {
        "id": "f6ZAp7ZsQAsV"
      },
      "execution_count": null,
      "outputs": []
    },
    {
      "cell_type": "markdown",
      "source": [
        "Cek data (X) dengan print. Hasilnya,"
      ],
      "metadata": {
        "id": "Y56HQ_B9QPIR"
      }
    },
    {
      "cell_type": "code",
      "source": [
        "print(X)"
      ],
      "metadata": {
        "colab": {
          "base_uri": "https://localhost:8080/"
        },
        "id": "GhWATdA_QM78",
        "outputId": "5ab3861c-0b44-40ca-b9d6-676d747be1df"
      },
      "execution_count": null,
      "outputs": [
        {
          "output_type": "stream",
          "name": "stdout",
          "text": [
            "[[619 'France' 0 ... 1 1 101348.88]\n",
            " [608 'Spain' 0 ... 0 1 112542.58]\n",
            " [502 'France' 0 ... 1 0 113931.57]\n",
            " ...\n",
            " [709 'France' 0 ... 0 1 42085.58]\n",
            " [772 'Germany' 1 ... 1 0 92888.52]\n",
            " [792 'France' 0 ... 1 0 38190.78]]\n"
          ]
        }
      ]
    },
    {
      "cell_type": "markdown",
      "source": [
        "#### **Langkah 4 - Encoding Kolom \"Geography\" dengan One Hot Encoder**"
      ],
      "metadata": {
        "id": "iAeS8kbQQYDb"
      }
    },
    {
      "cell_type": "code",
      "source": [
        "from sklearn.compose import ColumnTransformer\n",
        "from sklearn.preprocessing import OneHotEncoder\n",
        "ct = ColumnTransformer(transformers=[('encoder', OneHotEncoder(), [1])], remainder='passthrough')\n",
        "X = np.array(ct.fit_transform(X))"
      ],
      "metadata": {
        "id": "xQba_Dd7QaB9"
      },
      "execution_count": null,
      "outputs": []
    },
    {
      "cell_type": "markdown",
      "source": [
        "Cek data (X) dengan print. Hasilnya,"
      ],
      "metadata": {
        "id": "dC4emkq4Qc7G"
      }
    },
    {
      "cell_type": "code",
      "source": [
        "print(X)"
      ],
      "metadata": {
        "colab": {
          "base_uri": "https://localhost:8080/"
        },
        "id": "OfLIi6eYQarX",
        "outputId": "94cc3599-4d64-4889-f2a8-ebc2d7f715f0"
      },
      "execution_count": null,
      "outputs": [
        {
          "output_type": "stream",
          "name": "stdout",
          "text": [
            "[[619 'France' 0 ... 1 1 101348.88]\n",
            " [608 'Spain' 0 ... 0 1 112542.58]\n",
            " [502 'France' 0 ... 1 0 113931.57]\n",
            " ...\n",
            " [709 'France' 0 ... 0 1 42085.58]\n",
            " [772 'Germany' 1 ... 1 0 92888.52]\n",
            " [792 'France' 0 ... 1 0 38190.78]]\n"
          ]
        }
      ]
    },
    {
      "cell_type": "markdown",
      "source": [
        "#### **Langkah 5 - Split Data**"
      ],
      "metadata": {
        "id": "LhUs4z5dQgBE"
      }
    },
    {
      "cell_type": "code",
      "source": [
        "from sklearn.model_selection import train_test_split\n",
        "X_train, X_test, y_train, y_test = train_test_split(X, y, test_size = 0.2, random_state = 0)"
      ],
      "metadata": {
        "id": "3vsyV8qzQe9l"
      },
      "execution_count": null,
      "outputs": []
    },
    {
      "cell_type": "markdown",
      "source": [
        "#### **Langkah 6 - Scaling Fitur**"
      ],
      "metadata": {
        "id": "D-yiQ84dQi_s"
      }
    },
    {
      "cell_type": "code",
      "source": [
        "from sklearn.preprocessing import StandardScaler\n",
        "sc = StandardScaler()\n",
        "X_train = sc.fit_transform(X_train)\n",
        "X_test = sc.transform(X_test)"
      ],
      "metadata": {
        "id": "TepdG4AMQh2P"
      },
      "execution_count": null,
      "outputs": []
    },
    {
      "cell_type": "markdown",
      "source": [
        "### **Membuat Model ANN**"
      ],
      "metadata": {
        "id": "BG8gedf4Qk9c"
      }
    },
    {
      "cell_type": "markdown",
      "source": [
        "#### **Langkah 1 - Inisiasi Model ANN**"
      ],
      "metadata": {
        "id": "urCVB-1eQmdC"
      }
    },
    {
      "cell_type": "code",
      "source": [
        "ann = tf.keras.models.Sequential()"
      ],
      "metadata": {
        "id": "c3HMzokQQph5"
      },
      "execution_count": null,
      "outputs": []
    },
    {
      "cell_type": "markdown",
      "source": [
        "#### **Langkah 2 - Membuat Input Layer dan Hidden Layer Pertama**"
      ],
      "metadata": {
        "id": "72A4wHERQr0z"
      }
    },
    {
      "cell_type": "code",
      "source": [
        "ann.add(tf.keras.layers.Dense(units=6, activation='relu'))"
      ],
      "metadata": {
        "id": "t7twzldlQqWS"
      },
      "execution_count": null,
      "outputs": []
    },
    {
      "cell_type": "markdown",
      "source": [
        "#### **Langkah 3 - Membuat Hidden Layer Kedua**"
      ],
      "metadata": {
        "id": "Kr-BSCaBQw85"
      }
    },
    {
      "cell_type": "code",
      "source": [
        "ann.add(tf.keras.layers.Dense(units=6, activation='relu'))"
      ],
      "metadata": {
        "id": "179dlR_KQvSw"
      },
      "execution_count": null,
      "outputs": []
    },
    {
      "cell_type": "markdown",
      "source": [
        "#### **Langkah 4 - Membuat Output Layer**"
      ],
      "metadata": {
        "id": "fF3B8OUiQ1gl"
      }
    },
    {
      "cell_type": "code",
      "source": [
        "ann.add(tf.keras.layers.Dense(units=1, activation='sigmoid'))"
      ],
      "metadata": {
        "id": "na7DNJzqQ2vw"
      },
      "execution_count": null,
      "outputs": []
    },
    {
      "cell_type": "markdown",
      "source": [
        "### **Training Model**"
      ],
      "metadata": {
        "id": "OJlwlJQmQ4K7"
      }
    },
    {
      "cell_type": "markdown",
      "source": [
        "#### **Langkah 1 - Compile Model (Menyatukan Arsitektur) ANN**"
      ],
      "metadata": {
        "id": "PAsGFn2XQ6NY"
      }
    },
    {
      "cell_type": "code",
      "source": [
        "ann.compile(optimizer = 'adam', loss = 'binary_crossentropy', metrics = ['accuracy'])"
      ],
      "metadata": {
        "id": "IvdaEXinQ7sK"
      },
      "execution_count": null,
      "outputs": []
    },
    {
      "cell_type": "markdown",
      "source": [
        "#### **Langkah 2 - Fitting Model**"
      ],
      "metadata": {
        "id": "-oexygSZQ9-R"
      }
    },
    {
      "cell_type": "code",
      "source": [
        "ann.fit(X_train, y_train, batch_size = 32, epochs = 100)"
      ],
      "metadata": {
        "colab": {
          "base_uri": "https://localhost:8080/"
        },
        "id": "ptyJzOxZQ8vW",
        "outputId": "0c518956-d521-4431-bc89-70af2bda29ad"
      },
      "execution_count": null,
      "outputs": [
        {
          "output_type": "stream",
          "name": "stdout",
          "text": [
            "Epoch 1/100\n",
            "250/250 [==============================] - 1s 2ms/step - loss: 0.5594 - accuracy: 0.7960\n",
            "Epoch 2/100\n",
            "250/250 [==============================] - 0s 2ms/step - loss: 0.4898 - accuracy: 0.7960\n",
            "Epoch 3/100\n",
            "250/250 [==============================] - 1s 2ms/step - loss: 0.4612 - accuracy: 0.7960\n",
            "Epoch 4/100\n",
            "250/250 [==============================] - 1s 2ms/step - loss: 0.4451 - accuracy: 0.7960\n",
            "Epoch 5/100\n",
            "250/250 [==============================] - 0s 2ms/step - loss: 0.4365 - accuracy: 0.7960\n",
            "Epoch 6/100\n",
            "250/250 [==============================] - 1s 3ms/step - loss: 0.4319 - accuracy: 0.7960\n",
            "Epoch 7/100\n",
            "250/250 [==============================] - 1s 2ms/step - loss: 0.4282 - accuracy: 0.7960\n",
            "Epoch 8/100\n",
            "250/250 [==============================] - 1s 3ms/step - loss: 0.4253 - accuracy: 0.7977\n",
            "Epoch 9/100\n",
            "250/250 [==============================] - 1s 3ms/step - loss: 0.4224 - accuracy: 0.8079\n",
            "Epoch 10/100\n",
            "250/250 [==============================] - 1s 3ms/step - loss: 0.4200 - accuracy: 0.8183\n",
            "Epoch 11/100\n",
            "250/250 [==============================] - 1s 3ms/step - loss: 0.4177 - accuracy: 0.8244\n",
            "Epoch 12/100\n",
            "250/250 [==============================] - 1s 3ms/step - loss: 0.4155 - accuracy: 0.8279\n",
            "Epoch 13/100\n",
            "250/250 [==============================] - 1s 2ms/step - loss: 0.4135 - accuracy: 0.8304\n",
            "Epoch 14/100\n",
            "250/250 [==============================] - 0s 2ms/step - loss: 0.4120 - accuracy: 0.8311\n",
            "Epoch 15/100\n",
            "250/250 [==============================] - 0s 2ms/step - loss: 0.4101 - accuracy: 0.8331\n",
            "Epoch 16/100\n",
            "250/250 [==============================] - 0s 2ms/step - loss: 0.4086 - accuracy: 0.8331\n",
            "Epoch 17/100\n",
            "250/250 [==============================] - 0s 2ms/step - loss: 0.4069 - accuracy: 0.8339\n",
            "Epoch 18/100\n",
            "250/250 [==============================] - 0s 2ms/step - loss: 0.4054 - accuracy: 0.8354\n",
            "Epoch 19/100\n",
            "250/250 [==============================] - 0s 2ms/step - loss: 0.4034 - accuracy: 0.8330\n",
            "Epoch 20/100\n",
            "250/250 [==============================] - 0s 2ms/step - loss: 0.4006 - accuracy: 0.8353\n",
            "Epoch 21/100\n",
            "250/250 [==============================] - 0s 2ms/step - loss: 0.3971 - accuracy: 0.8365\n",
            "Epoch 22/100\n",
            "250/250 [==============================] - 0s 2ms/step - loss: 0.3912 - accuracy: 0.8375\n",
            "Epoch 23/100\n",
            "250/250 [==============================] - 0s 2ms/step - loss: 0.3832 - accuracy: 0.8424\n",
            "Epoch 24/100\n",
            "250/250 [==============================] - 0s 2ms/step - loss: 0.3740 - accuracy: 0.8464\n",
            "Epoch 25/100\n",
            "250/250 [==============================] - 0s 2ms/step - loss: 0.3646 - accuracy: 0.8530\n",
            "Epoch 26/100\n",
            "250/250 [==============================] - 0s 2ms/step - loss: 0.3565 - accuracy: 0.8545\n",
            "Epoch 27/100\n",
            "250/250 [==============================] - 0s 2ms/step - loss: 0.3510 - accuracy: 0.8580\n",
            "Epoch 28/100\n",
            "250/250 [==============================] - 0s 2ms/step - loss: 0.3464 - accuracy: 0.8586\n",
            "Epoch 29/100\n",
            "250/250 [==============================] - 0s 2ms/step - loss: 0.3441 - accuracy: 0.8601\n",
            "Epoch 30/100\n",
            "250/250 [==============================] - 0s 2ms/step - loss: 0.3419 - accuracy: 0.8621\n",
            "Epoch 31/100\n",
            "250/250 [==============================] - 0s 2ms/step - loss: 0.3410 - accuracy: 0.8609\n",
            "Epoch 32/100\n",
            "250/250 [==============================] - 0s 2ms/step - loss: 0.3401 - accuracy: 0.8624\n",
            "Epoch 33/100\n",
            "250/250 [==============================] - 0s 2ms/step - loss: 0.3390 - accuracy: 0.8597\n",
            "Epoch 34/100\n",
            "250/250 [==============================] - 0s 2ms/step - loss: 0.3386 - accuracy: 0.8608\n",
            "Epoch 35/100\n",
            "250/250 [==============================] - 0s 2ms/step - loss: 0.3381 - accuracy: 0.8624\n",
            "Epoch 36/100\n",
            "250/250 [==============================] - 1s 2ms/step - loss: 0.3377 - accuracy: 0.8609\n",
            "Epoch 37/100\n",
            "250/250 [==============================] - 1s 3ms/step - loss: 0.3370 - accuracy: 0.8615\n",
            "Epoch 38/100\n",
            "250/250 [==============================] - 1s 3ms/step - loss: 0.3371 - accuracy: 0.8614\n",
            "Epoch 39/100\n",
            "250/250 [==============================] - 1s 3ms/step - loss: 0.3364 - accuracy: 0.8620\n",
            "Epoch 40/100\n",
            "250/250 [==============================] - 1s 2ms/step - loss: 0.3363 - accuracy: 0.8626\n",
            "Epoch 41/100\n",
            "250/250 [==============================] - 1s 2ms/step - loss: 0.3356 - accuracy: 0.8635\n",
            "Epoch 42/100\n",
            "250/250 [==============================] - 1s 2ms/step - loss: 0.3356 - accuracy: 0.8631\n",
            "Epoch 43/100\n",
            "250/250 [==============================] - 0s 2ms/step - loss: 0.3359 - accuracy: 0.8622\n",
            "Epoch 44/100\n",
            "250/250 [==============================] - 0s 2ms/step - loss: 0.3353 - accuracy: 0.8635\n",
            "Epoch 45/100\n",
            "250/250 [==============================] - 0s 2ms/step - loss: 0.3350 - accuracy: 0.8631\n",
            "Epoch 46/100\n",
            "250/250 [==============================] - 0s 2ms/step - loss: 0.3346 - accuracy: 0.8631\n",
            "Epoch 47/100\n",
            "250/250 [==============================] - 0s 2ms/step - loss: 0.3348 - accuracy: 0.8636\n",
            "Epoch 48/100\n",
            "250/250 [==============================] - 0s 2ms/step - loss: 0.3344 - accuracy: 0.8646\n",
            "Epoch 49/100\n",
            "250/250 [==============================] - 0s 2ms/step - loss: 0.3341 - accuracy: 0.8643\n",
            "Epoch 50/100\n",
            "250/250 [==============================] - 0s 2ms/step - loss: 0.3343 - accuracy: 0.8654\n",
            "Epoch 51/100\n",
            "250/250 [==============================] - 0s 2ms/step - loss: 0.3338 - accuracy: 0.8644\n",
            "Epoch 52/100\n",
            "250/250 [==============================] - 0s 2ms/step - loss: 0.3340 - accuracy: 0.8645\n",
            "Epoch 53/100\n",
            "250/250 [==============================] - 0s 2ms/step - loss: 0.3337 - accuracy: 0.8645\n",
            "Epoch 54/100\n",
            "250/250 [==============================] - 0s 2ms/step - loss: 0.3340 - accuracy: 0.8636\n",
            "Epoch 55/100\n",
            "250/250 [==============================] - 0s 2ms/step - loss: 0.3335 - accuracy: 0.8651\n",
            "Epoch 56/100\n",
            "250/250 [==============================] - 0s 2ms/step - loss: 0.3335 - accuracy: 0.8652\n",
            "Epoch 57/100\n",
            "250/250 [==============================] - 0s 2ms/step - loss: 0.3333 - accuracy: 0.8637\n",
            "Epoch 58/100\n",
            "250/250 [==============================] - 0s 2ms/step - loss: 0.3333 - accuracy: 0.8640\n",
            "Epoch 59/100\n",
            "250/250 [==============================] - 0s 2ms/step - loss: 0.3331 - accuracy: 0.8652\n",
            "Epoch 60/100\n",
            "250/250 [==============================] - 0s 2ms/step - loss: 0.3334 - accuracy: 0.8639\n",
            "Epoch 61/100\n",
            "250/250 [==============================] - 0s 2ms/step - loss: 0.3328 - accuracy: 0.8652\n",
            "Epoch 62/100\n",
            "250/250 [==============================] - 0s 2ms/step - loss: 0.3327 - accuracy: 0.8640\n",
            "Epoch 63/100\n",
            "250/250 [==============================] - 0s 2ms/step - loss: 0.3329 - accuracy: 0.8633\n",
            "Epoch 64/100\n",
            "250/250 [==============================] - 0s 2ms/step - loss: 0.3322 - accuracy: 0.8648\n",
            "Epoch 65/100\n",
            "250/250 [==============================] - 0s 2ms/step - loss: 0.3327 - accuracy: 0.8640\n",
            "Epoch 66/100\n",
            "250/250 [==============================] - 1s 2ms/step - loss: 0.3324 - accuracy: 0.8643\n",
            "Epoch 67/100\n",
            "250/250 [==============================] - 1s 3ms/step - loss: 0.3323 - accuracy: 0.8643\n",
            "Epoch 68/100\n",
            "250/250 [==============================] - 1s 3ms/step - loss: 0.3324 - accuracy: 0.8639\n",
            "Epoch 69/100\n",
            "250/250 [==============================] - 1s 3ms/step - loss: 0.3324 - accuracy: 0.8636\n",
            "Epoch 70/100\n",
            "250/250 [==============================] - 1s 3ms/step - loss: 0.3319 - accuracy: 0.8636\n",
            "Epoch 71/100\n",
            "250/250 [==============================] - 1s 3ms/step - loss: 0.3319 - accuracy: 0.8648\n",
            "Epoch 72/100\n",
            "250/250 [==============================] - 1s 2ms/step - loss: 0.3321 - accuracy: 0.8637\n",
            "Epoch 73/100\n",
            "250/250 [==============================] - 0s 2ms/step - loss: 0.3316 - accuracy: 0.8648\n",
            "Epoch 74/100\n",
            "250/250 [==============================] - 0s 2ms/step - loss: 0.3315 - accuracy: 0.8646\n",
            "Epoch 75/100\n",
            "250/250 [==============================] - 0s 2ms/step - loss: 0.3318 - accuracy: 0.8637\n",
            "Epoch 76/100\n",
            "250/250 [==============================] - 0s 2ms/step - loss: 0.3314 - accuracy: 0.8636\n",
            "Epoch 77/100\n",
            "250/250 [==============================] - 0s 2ms/step - loss: 0.3317 - accuracy: 0.8641\n",
            "Epoch 78/100\n",
            "250/250 [==============================] - 0s 2ms/step - loss: 0.3317 - accuracy: 0.8648\n",
            "Epoch 79/100\n",
            "250/250 [==============================] - 0s 2ms/step - loss: 0.3317 - accuracy: 0.8636\n",
            "Epoch 80/100\n",
            "250/250 [==============================] - 0s 2ms/step - loss: 0.3317 - accuracy: 0.8646\n",
            "Epoch 81/100\n",
            "250/250 [==============================] - 0s 2ms/step - loss: 0.3314 - accuracy: 0.8643\n",
            "Epoch 82/100\n",
            "250/250 [==============================] - 0s 2ms/step - loss: 0.3313 - accuracy: 0.8646\n",
            "Epoch 83/100\n",
            "250/250 [==============================] - 0s 2ms/step - loss: 0.3312 - accuracy: 0.8634\n",
            "Epoch 84/100\n",
            "250/250 [==============================] - 0s 2ms/step - loss: 0.3313 - accuracy: 0.8641\n",
            "Epoch 85/100\n",
            "250/250 [==============================] - 0s 2ms/step - loss: 0.3309 - accuracy: 0.8637\n",
            "Epoch 86/100\n",
            "250/250 [==============================] - 0s 2ms/step - loss: 0.3309 - accuracy: 0.8649\n",
            "Epoch 87/100\n",
            "250/250 [==============================] - 0s 2ms/step - loss: 0.3307 - accuracy: 0.8644\n",
            "Epoch 88/100\n",
            "250/250 [==============================] - 0s 2ms/step - loss: 0.3311 - accuracy: 0.8645\n",
            "Epoch 89/100\n",
            "250/250 [==============================] - 0s 2ms/step - loss: 0.3304 - accuracy: 0.8630\n",
            "Epoch 90/100\n",
            "250/250 [==============================] - 0s 2ms/step - loss: 0.3303 - accuracy: 0.8654\n",
            "Epoch 91/100\n",
            "250/250 [==============================] - 0s 2ms/step - loss: 0.3305 - accuracy: 0.8646\n",
            "Epoch 92/100\n",
            "250/250 [==============================] - 0s 2ms/step - loss: 0.3303 - accuracy: 0.8658\n",
            "Epoch 93/100\n",
            "250/250 [==============================] - 0s 2ms/step - loss: 0.3303 - accuracy: 0.8652\n",
            "Epoch 94/100\n",
            "250/250 [==============================] - 0s 2ms/step - loss: 0.3299 - accuracy: 0.8655\n",
            "Epoch 95/100\n",
            "250/250 [==============================] - 0s 2ms/step - loss: 0.3304 - accuracy: 0.8660\n",
            "Epoch 96/100\n",
            "250/250 [==============================] - 1s 3ms/step - loss: 0.3302 - accuracy: 0.8651\n",
            "Epoch 97/100\n",
            "250/250 [==============================] - 1s 3ms/step - loss: 0.3299 - accuracy: 0.8654\n",
            "Epoch 98/100\n",
            "250/250 [==============================] - 1s 3ms/step - loss: 0.3298 - accuracy: 0.8660\n",
            "Epoch 99/100\n",
            "250/250 [==============================] - 1s 3ms/step - loss: 0.3298 - accuracy: 0.8651\n",
            "Epoch 100/100\n",
            "250/250 [==============================] - 1s 2ms/step - loss: 0.3299 - accuracy: 0.8652\n"
          ]
        },
        {
          "output_type": "execute_result",
          "data": {
            "text/plain": [
              "<keras.src.callbacks.History at 0x79ca5cdccee0>"
            ]
          },
          "metadata": {},
          "execution_count": 35
        }
      ]
    },
    {
      "cell_type": "markdown",
      "source": [
        "### **Membuat Prediksi**"
      ],
      "metadata": {
        "id": "Che8clf1RHw5"
      }
    },
    {
      "cell_type": "markdown",
      "source": [
        "Diberikan informasi sebagai berikut,\n",
        "\n",
        "- Geography: France\n",
        "- Credit Score: 600\n",
        "- Gender: Male\n",
        "- Age: 40 years old\n",
        "- Tenure: 3 years\n",
        "- Balance: $ 60000\n",
        "\n",
        "- Number of Products: 2\n",
        "- Does this customer have a credit card ? Yes\n",
        "- Is this customer an Active Member: Yes\n",
        "- Estimated Salary: $ 50000\n",
        "\n",
        "Apakah customer tersebut perlu dipertahankan?"
      ],
      "metadata": {
        "id": "OxehSWlKRJZi"
      }
    },
    {
      "cell_type": "markdown",
      "source": [
        "#### **Modelkan Data Baru dan Buat Prediksi**"
      ],
      "metadata": {
        "id": "UmXZDsaTRV04"
      }
    },
    {
      "cell_type": "code",
      "source": [
        "print(ann.predict(sc.transform([[1, 0, 0, 600, 1, 40, 3, 60000, 2, 1, 1, 50000]])) > 0.5)"
      ],
      "metadata": {
        "colab": {
          "base_uri": "https://localhost:8080/"
        },
        "id": "pMTZn8LNRXpA",
        "outputId": "4e8ef3ee-716f-4b12-9da2-8f8681468f08"
      },
      "execution_count": null,
      "outputs": [
        {
          "output_type": "stream",
          "name": "stdout",
          "text": [
            "1/1 [==============================] - 0s 100ms/step\n",
            "[[False]]\n"
          ]
        }
      ]
    },
    {
      "cell_type": "markdown",
      "source": [
        "Apakah hasilnya False?"
      ],
      "metadata": {
        "id": "7R8Fr2rtRbBr"
      }
    },
    {
      "cell_type": "markdown",
      "source": [
        "#### **Prediksi Dengan Data Testing**"
      ],
      "metadata": {
        "id": "KtBPyDbvRdQq"
      }
    },
    {
      "cell_type": "code",
      "source": [
        "y_pred = ann.predict(X_test)\n",
        "y_pred = (y_pred > 0.5)\n",
        "print(np.concatenate((y_pred.reshape(len(y_pred),1), y_test.reshape(len(y_test),1)),1))"
      ],
      "metadata": {
        "colab": {
          "base_uri": "https://localhost:8080/"
        },
        "id": "8PVLxz0ARZXs",
        "outputId": "1591385d-6811-4242-b717-3da9a6166da2"
      },
      "execution_count": null,
      "outputs": [
        {
          "output_type": "stream",
          "name": "stdout",
          "text": [
            "63/63 [==============================] - 0s 1ms/step\n",
            "[[0 0]\n",
            " [0 1]\n",
            " [0 0]\n",
            " ...\n",
            " [0 0]\n",
            " [0 0]\n",
            " [0 0]]\n"
          ]
        }
      ]
    },
    {
      "cell_type": "markdown",
      "source": [
        "#### **Cek Akurasi dan Confusion Matrix**"
      ],
      "metadata": {
        "id": "RWAG76cVRhL9"
      }
    },
    {
      "cell_type": "code",
      "source": [
        "from sklearn.metrics import confusion_matrix, accuracy_score\n",
        "cm = confusion_matrix(y_test, y_pred)\n",
        "print(cm)\n",
        "accuracy_score(y_test, y_pred)"
      ],
      "metadata": {
        "colab": {
          "base_uri": "https://localhost:8080/"
        },
        "id": "tb4YwlaDRfB-",
        "outputId": "b9551ccc-de46-4177-a23d-26e624e426ce"
      },
      "execution_count": null,
      "outputs": [
        {
          "output_type": "stream",
          "name": "stdout",
          "text": [
            "[[1516   79]\n",
            " [ 198  207]]\n"
          ]
        },
        {
          "output_type": "execute_result",
          "data": {
            "text/plain": [
              "0.8615"
            ]
          },
          "metadata": {},
          "execution_count": 38
        }
      ]
    },
    {
      "cell_type": "markdown",
      "source": [
        "## **Tugas**"
      ],
      "metadata": {
        "id": "ZpobJcZ0Mx6_"
      }
    },
    {
      "cell_type": "markdown",
      "source": [
        "- Lakukan klasifikasi pada data MNIST dengan menggunakan model ANN\n",
        "- Anda diperbolehkan melakukan eksplorasi terhadap,\n",
        "  - Metode pra pengolahan\n",
        "  - Pemilihan fitur\n",
        "  - Arsitektur ANN\n",
        "  - Fungsi Aktiviasi\n",
        "- ANN diimplementasikan dengan menggunakan tensorflow.\n",
        "- DIKERJAKAN SECARA BERKELOMPOK\n",
        "- JELASKAN HASIL YANG ANDA DAPATKAN,\n",
        "  - AKURASI\n",
        "  - CONFUSION MATRIX\n",
        "  - KONFIGURASI MODEL --> MULAI DARI PRA PENGOLAHAN SAMPAI ARSITEKTUR ANN"
      ],
      "metadata": {
        "id": "LcAcSx1mRlkf"
      }
    },
    {
      "cell_type": "markdown",
      "source": [
        "### **Jawab**"
      ],
      "metadata": {
        "id": "OzxVuo2W9zrU"
      }
    },
    {
      "cell_type": "markdown",
      "source": [
        "##Import Library"
      ],
      "metadata": {
        "id": "fQhsFMQDg8Uf"
      }
    },
    {
      "cell_type": "code",
      "source": [
        "import tensorflow as tf\n",
        "from tensorflow.keras.layers import Flatten, Dense\n",
        "from sklearn.metrics import confusion_matrix, accuracy_score\n",
        "import matplotlib.pyplot as plt"
      ],
      "metadata": {
        "id": "og2kiNYohNDw"
      },
      "execution_count": null,
      "outputs": []
    },
    {
      "cell_type": "markdown",
      "source": [
        "## Pre-processing"
      ],
      "metadata": {
        "id": "GO7gsXtyiFCO"
      }
    },
    {
      "cell_type": "code",
      "source": [
        "# Memuat dan memproses dataset MNIST\n",
        "mnist = tf.keras.datasets.mnist\n",
        "(x_train, y_train), (x_test, y_test) = mnist.load_data()\n",
        "x_train, x_test = x_train / 255.0, x_test / 255.0  # Normalisasi data"
      ],
      "metadata": {
        "colab": {
          "base_uri": "https://localhost:8080/"
        },
        "id": "X1Xc6d2uiHaR",
        "outputId": "1a5972ae-a942-4e71-ceff-b48be6642c25"
      },
      "execution_count": null,
      "outputs": [
        {
          "output_type": "stream",
          "name": "stdout",
          "text": [
            "Downloading data from https://storage.googleapis.com/tensorflow/tf-keras-datasets/mnist.npz\n",
            "11490434/11490434 [==============================] - 0s 0us/step\n"
          ]
        }
      ]
    },
    {
      "cell_type": "markdown",
      "source": [
        "##Permodelan ANN"
      ],
      "metadata": {
        "id": "1JUW9tbhiIhq"
      }
    },
    {
      "cell_type": "code",
      "source": [
        "# Membuat dan mengompilasi model ANN\n",
        "model = tf.keras.Sequential([\n",
        "    # Lapisan Input\n",
        "    Flatten(input_shape=(28, 28)),\n",
        "    # Penerapan fungsi aktivasi\n",
        "    Dense(128, activation='relu'),\n",
        "    Dense(64, activation='relu'),\n",
        "    Dense(10, activation='softmax')\n",
        "])\n",
        "\n",
        "model.compile(optimizer='adam',\n",
        "              loss='sparse_categorical_crossentropy',\n",
        "              metrics=['accuracy'])\n",
        "\n",
        "# Melatih model\n",
        "model.fit(x_train, y_train, epochs=10, validation_split=0.2)\n",
        "\n",
        "# Mengevaluasi model pada data uji\n",
        "y_pred = model.predict(x_test)\n",
        "y_pred_classes = y_pred.argmax(axis=-1)\n",
        "accuracy = accuracy_score(y_test, y_pred_classes)\n",
        "confusion_mat = confusion_matrix(y_test, y_pred_classes)"
      ],
      "metadata": {
        "colab": {
          "base_uri": "https://localhost:8080/"
        },
        "id": "L0anfB-riMGi",
        "outputId": "79b93baf-3750-4c63-c590-d0d30d7833be"
      },
      "execution_count": null,
      "outputs": [
        {
          "output_type": "stream",
          "name": "stdout",
          "text": [
            "Epoch 1/10\n",
            "1500/1500 [==============================] - 9s 5ms/step - loss: 0.2656 - accuracy: 0.9230 - val_loss: 0.1412 - val_accuracy: 0.9591\n",
            "Epoch 2/10\n",
            "1500/1500 [==============================] - 8s 5ms/step - loss: 0.1139 - accuracy: 0.9661 - val_loss: 0.1403 - val_accuracy: 0.9582\n",
            "Epoch 3/10\n",
            "1500/1500 [==============================] - 5s 4ms/step - loss: 0.0797 - accuracy: 0.9754 - val_loss: 0.1024 - val_accuracy: 0.9697\n",
            "Epoch 4/10\n",
            "1500/1500 [==============================] - 7s 5ms/step - loss: 0.0590 - accuracy: 0.9811 - val_loss: 0.1187 - val_accuracy: 0.9658\n",
            "Epoch 5/10\n",
            "1500/1500 [==============================] - 6s 4ms/step - loss: 0.0462 - accuracy: 0.9852 - val_loss: 0.0966 - val_accuracy: 0.9729\n",
            "Epoch 6/10\n",
            "1500/1500 [==============================] - 6s 4ms/step - loss: 0.0357 - accuracy: 0.9883 - val_loss: 0.0997 - val_accuracy: 0.9723\n",
            "Epoch 7/10\n",
            "1500/1500 [==============================] - 6s 4ms/step - loss: 0.0309 - accuracy: 0.9899 - val_loss: 0.1154 - val_accuracy: 0.9708\n",
            "Epoch 8/10\n",
            "1500/1500 [==============================] - 5s 4ms/step - loss: 0.0261 - accuracy: 0.9913 - val_loss: 0.1109 - val_accuracy: 0.9728\n",
            "Epoch 9/10\n",
            "1500/1500 [==============================] - 7s 5ms/step - loss: 0.0208 - accuracy: 0.9930 - val_loss: 0.1147 - val_accuracy: 0.9732\n",
            "Epoch 10/10\n",
            "1500/1500 [==============================] - 5s 4ms/step - loss: 0.0189 - accuracy: 0.9940 - val_loss: 0.1109 - val_accuracy: 0.9747\n",
            "313/313 [==============================] - 1s 2ms/step\n"
          ]
        }
      ]
    },
    {
      "cell_type": "markdown",
      "source": [
        "## Hasil Akurasi"
      ],
      "metadata": {
        "id": "1kktzIScioAH"
      }
    },
    {
      "cell_type": "code",
      "source": [
        "# Mencetak akurasi\n",
        "print(\"Akurasi:\", accuracy)"
      ],
      "metadata": {
        "colab": {
          "base_uri": "https://localhost:8080/"
        },
        "id": "vw-NWtYsiqUl",
        "outputId": "2a83ffe9-4f0f-418d-d346-544d541af91a"
      },
      "execution_count": null,
      "outputs": [
        {
          "output_type": "stream",
          "name": "stdout",
          "text": [
            "Akurasi: 0.9751\n"
          ]
        }
      ]
    },
    {
      "cell_type": "markdown",
      "source": [
        "##Confusion Matrix"
      ],
      "metadata": {
        "id": "h24fu8LOisve"
      }
    },
    {
      "cell_type": "code",
      "source": [
        "print(\"Confusion Matriks:\")\n",
        "print(confusion_mat)"
      ],
      "metadata": {
        "colab": {
          "base_uri": "https://localhost:8080/"
        },
        "id": "wHZxojmgivqh",
        "outputId": "b2cc517a-4cfd-44ca-c80b-5530c31dd843"
      },
      "execution_count": null,
      "outputs": [
        {
          "output_type": "stream",
          "name": "stdout",
          "text": [
            "Confusion Matriks:\n",
            "[[ 962    0    4    2    1    1    2    0    3    5]\n",
            " [   0 1121    2    1    0    1    4    1    5    0]\n",
            " [   4    6  999   10    1    0    2    5    5    0]\n",
            " [   0    0    3  986    0   11    0    2    2    6]\n",
            " [   0    0    1    2  956    2    4    1    3   13]\n",
            " [   0    0    0    4    1  879    3    0    2    3]\n",
            " [   4    2    2    1    5    7  934    0    3    0]\n",
            " [   1    4    7   10    1    0    0  992    5    8]\n",
            " [   0    0    2   11    2    6    0    3  948    2]\n",
            " [   0    4    0    5    8   13    0    3    2  974]]\n"
          ]
        }
      ]
    },
    {
      "cell_type": "code",
      "source": [
        "import seaborn as sns\n",
        "import matplotlib.pyplot as plt\n",
        "\n",
        "# Visualisasi confusion matrix\n",
        "plt.figure(figsize=(8, 6))\n",
        "sns.heatmap(confusion_mat, annot=True, fmt='d', cmap='Blues', xticklabels=range(10), yticklabels=range(10))\n",
        "plt.xlabel('Prediksi')\n",
        "plt.ylabel('Asli')\n",
        "plt.title('Confusion Matrix')\n",
        "plt.show()"
      ],
      "metadata": {
        "colab": {
          "base_uri": "https://localhost:8080/",
          "height": 564
        },
        "id": "98EHogxTi3ew",
        "outputId": "82720ae7-7334-4cfe-ec18-c1fdb705abd5"
      },
      "execution_count": null,
      "outputs": [
        {
          "output_type": "display_data",
          "data": {
            "text/plain": [
              "<Figure size 800x600 with 2 Axes>"
            ],
            "image/png": "[encoded data removed]"
          },
          "metadata": {}
        }
      ]
    },
    {
      "cell_type": "markdown",
      "source": [
        "## Visualisasi Data Asli dan Data Prediksi"
      ],
      "metadata": {
        "id": "R863vYRhjG2G"
      }
    },
    {
      "cell_type": "code",
      "source": [
        " # Membuat figur dengan ukuran 15x20 (bisa disesuaikan)\n",
        "plt.figure(figsize=(15, 20))\n",
        "for i in range(20):\n",
        "    plt.subplot(5, 5, i + 1)\n",
        "    plt.xticks([])\n",
        "    plt.yticks([])\n",
        "    plt.grid(False)\n",
        "    # Menampilkan gambar dalam skala hitam-putih\n",
        "    plt.imshow(x_test[i], cmap=plt.cm.binary, interpolation='nearest')\n",
        "    # Memeriksa apakah label asli dan prediksi cocok\n",
        "    if y_test[i] == y_pred_classes[i]:\n",
        "      # Jika cocok, label akan berwarna hitam\n",
        "        label_color = 'black'\n",
        "    else:\n",
        "      # Jika tidak cocok, label akan berwarna merah\n",
        "        label_color = 'red'\n",
        "    plt.xlabel(f\"Asli: {y_test[i]}\\nPrediksi: {y_pred_classes[i]}\", color=label_color)\n",
        "# Menampilkan visualisasi gambar dan label asli/prediksi\n",
        "plt.show()\n"
      ],
      "metadata": {
        "colab": {
          "base_uri": "https://localhost:8080/",
          "height": 1000
        },
        "id": "mubyyoeNjK8l",
        "outputId": "4833982c-c24f-4295-cc99-04e1b473eff5"
      },
      "execution_count": null,
      "outputs": [
        {
          "output_type": "display_data",
          "data": {
            "text/plain": [
              "<Figure size 1500x2000 with 20 Axes>"
            ],
            "image/png": "[encoded data removed]"
          },
          "metadata": {}
        }
      ]
    },
    {
      "cell_type": "markdown",
      "source": [
        "##**KESIMPULAN**"
      ],
      "metadata": {
        "id": "qj2VsGn6jv5p"
      }
    },
    {
      "cell_type": "markdown",
      "source": [
        "1. **Akurasi,** dari proses pengolahan data menggunakan permodelan ANN didapatkan akurasi sebesar 0,9751 (97,51%). Hal ini menunjukkan bahwa sebagian besar prediksi yang dibuat dalam permodelan bernilai true/benar.\n",
        "\n",
        "2. **Confusion Matrix,** merupaan tabel yang menunjukkan seberapa baik model yang digunakan untuk melakukan prediksi di setiap kelasnya.\n",
        "\n",
        "    - True Positives (TP): Model secara efektif memprediksi sejumlah besar sampel sebagai kelas yang benar. Pada hasil confusion matrix diatas didapatkan nilai TP yang paling besar pada kelas 1 dengan nilai TP 1121.\n",
        "    - False Positives (FP): Jumlah false positive cukup rendah, ada beberapa kasus di mana model memprediksi salah sebagai positif saat seharusnya negatif. Pada kelas 1 terdapat nilai FP terbesar yaitu 40.\n",
        "    - False Negatives (FN): Terdapat beberapa False Negatives (prediksi negatif yang salah), yang berarti model salah memprediksi sebagai negatif saat seharusnya positif. Pada kelas 4 terdapat nilai FN yang paling besar yaitu 13"
      ],
      "metadata": {
        "id": "1joXDAHYjyE_"
      }
    },
    {
      "cell_type": "markdown",
      "source": [
        "3. **Konfigurasi Model**\n",
        "- Pre-processing :\n",
        " - Menggunakan TensorFlow untuk mengunduh dataset MNIST yang berisi citra-citra.\n",
        " - Melakukan split data menjadi data pelatihan (x_train,y_train) dan data pengujian (x_test,y_test)\n",
        " - Data dinormalisasi dengan membaginya dengan 255. Hal ini digunakan untuk mengubah rentang intensitas pixel dari 0-255 menjadi 0-1 untuk dilakukan pemrosesan citra\n",
        "- Arsitektur ANN :\n",
        " - Membuat model neural network dengan menggunakan tf.keras.Sequential. Model ini merupakan feedforward ANN dengan beberapa lapisan.\n",
        " - Model menggunakan lapisan Flatten sebagai apisan input yang mengubah gambar menjadi pixel 1D.\n",
        " - Menggunakan 2 lapisan Dense dengan fungsi aktivasi 'relu' yang terdiri dari 128 dan 64 unit.\n",
        " - Lapisan terakhir adalah apisan Dense dengan fungsi aktivasi 'softmax' yang memiliki 10 unir sesuai dengan jumlah kelas (0-9)\n",
        " Model dikompilasi dengan optimizer 'adam', loss function 'sparse_categorical_crossentropy', dan metrik 'accuracy'.\n",
        "- Pelatihan Model :\n",
        " - Menggunakan data pelatihan dengan 10 epoch dan validasi set sebesar 20% dari data pelatihan.\n",
        " - Model melakukan pelatihan dengan meminimalkan loss function dan memperbarui bobot sesuai dengan optimasi Adam.\n",
        "- Evaluasi Model pada Data Uji  :\n",
        " - Model yang telah dilatih untuk melakukan prediksi pada data uji akan diuba menjadi kelas dengan nilai tertinggi kemudian dilakukan perhitungan akurasi model dengan membandingkan hasil prediksi dengan label sebenarnya menggunakan 'accuracy_score' dari scikit-learn serta menghitng confusion matrix dengan menggunakan confusion_matrix."
      ],
      "metadata": {
        "id": "x7MkPhllmp-A"
      }
    }
  ]
}